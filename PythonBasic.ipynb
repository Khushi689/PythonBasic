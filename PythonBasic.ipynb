{
  "nbformat": 4,
  "nbformat_minor": 0,
  "metadata": {
    "colab": {
      "provenance": []
    },
    "kernelspec": {
      "name": "python3",
      "display_name": "Python 3"
    },
    "language_info": {
      "name": "python"
    }
  },
  "cells": [
    {
      "cell_type": "code",
      "execution_count": null,
      "metadata": {
        "id": "LsgIhsRMZeDm"
      },
      "outputs": [],
      "source": []
    },
    {
      "cell_type": "markdown",
      "source": [
        "1. What is Python, and why is it popular?\n",
        "\n",
        "Python is a high-level, interpreted programming language known for its simplicity and readability. It is widely used in web development, data science, artificial intelligence, automation, and more.\n",
        "Reasons for its popularity:\n",
        "Easy to learn and use (simple syntax)\n",
        "Large standard library with extensive support for various tasks\n",
        "Strong community and open-source nature\n",
        "Supports multiple programming paradigms (object-oriented, functional, procedural)\n",
        "Wide range of third-party libraries (NumPy, Pandas, TensorFlow, etc.)\n",
        "\n",
        "2. What is an interpreter in Python?\n",
        "\n",
        "An interpreter is a program that executes Python code line by line, converting it into machine-readable format. Python’s interpreter allows for dynamic execution, making debugging easier.\n",
        "\n",
        "3. What are pre-defined keywords in Python?\n",
        "\n",
        "Pre-defined keywords are reserved words in Python that have special meanings and cannot be used as variable names. Examples include if, else, while, def, return, import, etc.\n",
        "\n",
        "4. Can keywords be used as variable names?\n",
        "\n",
        "No, Python keywords cannot be used as variable names because they have predefined functions in the language.\n",
        "\n",
        "5. What is mutability in Python?\n",
        "\n",
        "Mutability refers to whether an object’s value can be changed after it is created.\n",
        "Mutable objects: Can be modified (e.g., lists, dictionaries, sets).\n",
        "Immutable objects: Cannot be changed (e.g., tuples, strings, integers).\n",
        "\n",
        "6. Why are lists mutable, but tuples are immutable?\n",
        "\n",
        "Lists are mutable because they are designed for dynamic data storage, allowing modification (adding/removing elements).\n",
        "Tuples are immutable to ensure data integrity, making them more efficient and safer for use as dictionary keys.\n",
        "\n",
        "7. What is the difference between == and is operators in Python?\n",
        "\n",
        "== compares values of two objects.\n",
        "is checks whether two objects refer to the same memory location.\n",
        "python\n",
        "Copy\n",
        "Edit\n",
        "a = [1, 2, 3]\n",
        "b = [1, 2, 3]\n",
        "print(a == b)  # True (values are the same)\n",
        "print(a is b)  # False (different memory locations)\n",
        "\n",
        "8. What are logical operators in Python?\n",
        "\n",
        "Logical operators are used for conditional expressions:\n",
        "and: Returns True if both conditions are True.\n",
        "or: Returns True if at least one condition is True.\n",
        "not: Inverts the Boolean value.\n"
      ],
      "metadata": {
        "id": "dcf1fE3kaegi"
      }
    },
    {
      "cell_type": "code",
      "source": [
        "#9. What is type casting in Python?\n",
        "num = int(\"10\")  # Converts string to integer"
      ],
      "metadata": {
        "id": "apUgH8T7anxE"
      },
      "execution_count": 3,
      "outputs": []
    },
    {
      "cell_type": "code",
      "source": [
        "#10. What is the difference between implicit and explicit type casting?\n",
        "x = 5    # int\n",
        "y = 2.5  # float\n",
        "z = x + y  # z is automatically converted to float"
      ],
      "metadata": {
        "id": "iPFdSex7aoyy"
      },
      "execution_count": 2,
      "outputs": []
    },
    {
      "cell_type": "code",
      "source": [
        "#11. What is the purpose of conditional statements in Python?\n",
        "age = 18\n",
        "if age >= 18:\n",
        "    print(\"Eligible to vote\")\n",
        "else:\n",
        "    print(\"Not eligible\")"
      ],
      "metadata": {
        "colab": {
          "base_uri": "https://localhost:8080/"
        },
        "id": "m_nv_qXcarw3",
        "outputId": "f49d0fc9-933d-4e44-f096-07f19891a194"
      },
      "execution_count": 4,
      "outputs": [
        {
          "output_type": "stream",
          "name": "stdout",
          "text": [
            "Eligible to vote\n"
          ]
        }
      ]
    },
    {
      "cell_type": "code",
      "source": [
        "#12. How does the elif statement work?\n",
        "#The elif (else if) statement allows checking multiple conditions sequentially."
      ],
      "metadata": {
        "id": "Tdezue-1a583"
      },
      "execution_count": null,
      "outputs": []
    },
    {
      "cell_type": "code",
      "source": [
        "#13. What is the difference between for and while loops?\n",
        "for i in range(5):  # Executes 5 times\n",
        "    print(i)\n",
        "\n",
        "x = 0\n",
        "while x < 5:  # Executes until condition is false\n",
        "    print(x)\n",
        "    x += 1"
      ],
      "metadata": {
        "colab": {
          "base_uri": "https://localhost:8080/"
        },
        "id": "6XxV7pa_a6y8",
        "outputId": "28147def-266b-4454-8847-8c0c55ac84dc"
      },
      "execution_count": 5,
      "outputs": [
        {
          "output_type": "stream",
          "name": "stdout",
          "text": [
            "0\n",
            "1\n",
            "2\n",
            "3\n",
            "4\n",
            "0\n",
            "1\n",
            "2\n",
            "3\n",
            "4\n"
          ]
        }
      ]
    },
    {
      "cell_type": "code",
      "source": [
        "#14. Describe a scenario where a while loop is more suitable than a for loop.\n",
        "while True:\n",
        "    password = input(\"Enter password: \")\n",
        "    if password == \"secure123\":\n",
        "        print(\"Access granted\")\n",
        "        break\n",
        "    print(\"Try again!\")"
      ],
      "metadata": {
        "colab": {
          "base_uri": "https://localhost:8080/"
        },
        "id": "a9LeUJoHa-Hv",
        "outputId": "87f620c6-ec8d-4411-80a2-4ccac084e254"
      },
      "execution_count": 6,
      "outputs": [
        {
          "output_type": "stream",
          "name": "stdout",
          "text": [
            "Enter password: 12@34\n",
            "Try again!\n",
            "Enter password: secure123\n",
            "Access granted\n"
          ]
        }
      ]
    },
    {
      "cell_type": "code",
      "source": [
        "#15. Write a Python program to print \"Hello, World!\n",
        "print(\"Hello, World!\")"
      ],
      "metadata": {
        "colab": {
          "base_uri": "https://localhost:8080/"
        },
        "id": "jwXkaM5JbBTk",
        "outputId": "451fdd74-1b0c-43b5-c983-f355224a0479"
      },
      "execution_count": 8,
      "outputs": [
        {
          "output_type": "stream",
          "name": "stdout",
          "text": [
            "Hello, World!\n"
          ]
        }
      ]
    },
    {
      "cell_type": "code",
      "source": [
        "#16. Write a Python program that displays your name and age\n",
        "name = \"John Doe\"\n",
        "age = 25\n",
        "print(f\"My name is {name} and I am {age} years old.\")"
      ],
      "metadata": {
        "colab": {
          "base_uri": "https://localhost:8080/"
        },
        "id": "XZWaVmtybD8s",
        "outputId": "72291f04-049a-48cd-d102-1c80f8e3b940"
      },
      "execution_count": 9,
      "outputs": [
        {
          "output_type": "stream",
          "name": "stdout",
          "text": [
            "My name is John Doe and I am 25 years old.\n"
          ]
        }
      ]
    },
    {
      "cell_type": "code",
      "source": [
        "#17. Write code to print all the pre-defined keywords in Python using the keyword library\n",
        "import keyword\n",
        "print(keyword.kwlist)"
      ],
      "metadata": {
        "colab": {
          "base_uri": "https://localhost:8080/"
        },
        "id": "bTu3iokZbPPk",
        "outputId": "f6d09eb0-4ff2-4373-c430-97694ca7f827"
      },
      "execution_count": 10,
      "outputs": [
        {
          "output_type": "stream",
          "name": "stdout",
          "text": [
            "['False', 'None', 'True', 'and', 'as', 'assert', 'async', 'await', 'break', 'class', 'continue', 'def', 'del', 'elif', 'else', 'except', 'finally', 'for', 'from', 'global', 'if', 'import', 'in', 'is', 'lambda', 'nonlocal', 'not', 'or', 'pass', 'raise', 'return', 'try', 'while', 'with', 'yield']\n"
          ]
        }
      ]
    },
    {
      "cell_type": "code",
      "source": [
        "#18. Write a program that checks if a given word is a Python keyword.\n",
        "import keyword\n",
        "\n",
        "word = input(\"Enter a word: \")\n",
        "if keyword.iskeyword(word):\n",
        "    print(f\"'{word}' is a Python keyword.\")\n",
        "else:\n",
        "    print(f\"'{word}' is not a Python keyword.\")"
      ],
      "metadata": {
        "colab": {
          "base_uri": "https://localhost:8080/"
        },
        "id": "Gb00cpQmb9QA",
        "outputId": "ac433d58-dafb-40a9-aabc-1458345b36d6"
      },
      "execution_count": 11,
      "outputs": [
        {
          "output_type": "stream",
          "name": "stdout",
          "text": [
            "Enter a word: def\n",
            "'def' is a Python keyword.\n"
          ]
        }
      ]
    },
    {
      "cell_type": "code",
      "source": [
        "#19. Write a function to demonstrate the behavior of mutable and immutable arguments.\n",
        "def mutable_vs_immutable(num, lst):\n",
        "    num += 1  # Immutable (integers)\n",
        "    lst.append(4)  # Mutable (lists)\n",
        "\n",
        "a = 10\n",
        "b = [1, 2, 3]\n",
        "\n",
        "mutable_vs_immutable(a, b)\n",
        "print(\"Immutable (integer):\", a)\n",
        "print(\"Mutable (list):\", b)"
      ],
      "metadata": {
        "colab": {
          "base_uri": "https://localhost:8080/"
        },
        "id": "C2f1ZuGicBJj",
        "outputId": "259913df-e931-4c4f-a0b8-c7f07f1f492b"
      },
      "execution_count": 12,
      "outputs": [
        {
          "output_type": "stream",
          "name": "stdout",
          "text": [
            "Immutable (integer): 10\n",
            "Mutable (list): [1, 2, 3, 4]\n"
          ]
        }
      ]
    },
    {
      "cell_type": "code",
      "source": [
        "#20. Write a program that performs basic arithmetic operations on two user-input numbers.\n",
        "num1 = float(input(\"Enter first number: \"))\n",
        "num2 = float(input(\"Enter second number: \"))\n",
        "\n",
        "print(\"Addition:\", num1 + num2)\n",
        "print(\"Subtraction:\", num1 - num2)\n",
        "print(\"Multiplication:\", num1 * num2)\n",
        "print(\"Division:\", num1 / num2 if num2 != 0 else \"Cannot divide by zero\")"
      ],
      "metadata": {
        "colab": {
          "base_uri": "https://localhost:8080/"
        },
        "id": "55BiFYhmcBhr",
        "outputId": "1210c3d7-70bd-4cdc-8020-59b7edc13888"
      },
      "execution_count": 13,
      "outputs": [
        {
          "output_type": "stream",
          "name": "stdout",
          "text": [
            "Enter first number: 4\n",
            "Enter second number: 6\n",
            "Addition: 10.0\n",
            "Subtraction: -2.0\n",
            "Multiplication: 24.0\n",
            "Division: 0.6666666666666666\n"
          ]
        }
      ]
    },
    {
      "cell_type": "code",
      "source": [
        "#21. Write a program to demonstrate the use of logical operators.\n",
        "a, b = True, False\n",
        "\n",
        "print(\"a and b:\", a and b)\n",
        "print(\"a or b:\", a or b)\n",
        "print(\"not a:\", not a)"
      ],
      "metadata": {
        "colab": {
          "base_uri": "https://localhost:8080/"
        },
        "id": "xnCKenZ6cB1o",
        "outputId": "9ae4ba8b-91e4-4291-aed2-75f677a5241a"
      },
      "execution_count": 14,
      "outputs": [
        {
          "output_type": "stream",
          "name": "stdout",
          "text": [
            "a and b: False\n",
            "a or b: True\n",
            "not a: False\n"
          ]
        }
      ]
    },
    {
      "cell_type": "code",
      "source": [
        " #22. Create a list and tuple in Python, and demonstrate how attempting to change an element works differently\n",
        "#for each.\n",
        "my_list = [1, 2, 3]\n",
        "my_tuple = (1, 2, 3)\n",
        "\n",
        "my_list[0] = 10  # Allowed\n",
        "print(\"Modified list:\", my_list)\n",
        "\n",
        "try:\n",
        "    my_tuple[0] = 10  # Not allowed\n",
        "except TypeError:\n",
        "    print(\"Cannot modify a tuple\")"
      ],
      "metadata": {
        "colab": {
          "base_uri": "https://localhost:8080/"
        },
        "id": "KOnsFcZQcSYh",
        "outputId": "b8554aa0-6168-4bf2-ff50-a31e4165832b"
      },
      "execution_count": 15,
      "outputs": [
        {
          "output_type": "stream",
          "name": "stdout",
          "text": [
            "Modified list: [10, 2, 3]\n",
            "Cannot modify a tuple\n"
          ]
        }
      ]
    },
    {
      "cell_type": "code",
      "source": [
        "#23. Write a Python program to convert user input from string to integer, float, and boolean types.\n",
        "user_input = input(\"Enter a value: \")\n",
        "\n",
        "int_value = int(user_input)\n",
        "float_value = float(user_input)\n",
        "bool_value = bool(user_input)\n",
        "\n",
        "print(\"Integer:\", int_value)\n",
        "print(\"Float:\", float_value)\n",
        "print(\"Boolean:\", bool_value)"
      ],
      "metadata": {
        "colab": {
          "base_uri": "https://localhost:8080/"
        },
        "id": "Rd3Y4iWAcXHm",
        "outputId": "36622f0c-54f6-4598-a145-37507e5aa999"
      },
      "execution_count": 17,
      "outputs": [
        {
          "output_type": "stream",
          "name": "stdout",
          "text": [
            "Enter a value: 3\n",
            "Integer: 3\n",
            "Float: 3.0\n",
            "Boolean: True\n"
          ]
        }
      ]
    },
    {
      "cell_type": "code",
      "source": [
        "#24. Write code to demonstrate type casting with list elements.\n",
        "str_list = [\"1\", \"2\", \"3\"]\n",
        "\n",
        "int_list = list(map(int, str_list))\n",
        "float_list = list(map(float, str_list))\n",
        "\n",
        "print(\"Integer List:\", int_list)\n",
        "print(\"Float List:\", float_list)\n"
      ],
      "metadata": {
        "colab": {
          "base_uri": "https://localhost:8080/"
        },
        "id": "kZ1P-EaTcWtZ",
        "outputId": "ac060252-53ec-4e13-b781-8adae2460647"
      },
      "execution_count": 18,
      "outputs": [
        {
          "output_type": "stream",
          "name": "stdout",
          "text": [
            "Integer List: [1, 2, 3]\n",
            "Float List: [1.0, 2.0, 3.0]\n"
          ]
        }
      ]
    },
    {
      "cell_type": "code",
      "source": [
        " #25. Write a program that checks if a number is positive, negative, or zero.\n",
        "num = float(input(\"Enter a number: \"))\n",
        "\n",
        "if num > 0:\n",
        "    print(\"Positive number\")\n",
        "elif num < 0:\n",
        "    print(\"Negative number\")\n",
        "else:\n",
        "    print(\"Zero\")"
      ],
      "metadata": {
        "colab": {
          "base_uri": "https://localhost:8080/"
        },
        "id": "4lo8A9wVcl-q",
        "outputId": "7dccea8b-cf93-4344-e9d9-a594d952dd65"
      },
      "execution_count": 19,
      "outputs": [
        {
          "output_type": "stream",
          "name": "stdout",
          "text": [
            "Enter a number: 3\n",
            "Positive number\n"
          ]
        }
      ]
    },
    {
      "cell_type": "code",
      "source": [
        "#26. Write a for loop to print numbers from 1 to 10.\n",
        "for i in range(1, 11):\n",
        "    print(i)"
      ],
      "metadata": {
        "colab": {
          "base_uri": "https://localhost:8080/"
        },
        "id": "cBfEEAGkcnLo",
        "outputId": "5f38f8e0-cc6a-4e2a-8530-fc84b9d9648e"
      },
      "execution_count": 20,
      "outputs": [
        {
          "output_type": "stream",
          "name": "stdout",
          "text": [
            "1\n",
            "2\n",
            "3\n",
            "4\n",
            "5\n",
            "6\n",
            "7\n",
            "8\n",
            "9\n",
            "10\n"
          ]
        }
      ]
    },
    {
      "cell_type": "code",
      "source": [
        "#27. Write a Python program to find the sum of all even numbers between 1 and 50\n",
        "sum_even = sum(i for i in range(1, 51) if i % 2 == 0)\n",
        "print(\"Sum of even numbers from 1 to 50:\", sum_even)"
      ],
      "metadata": {
        "colab": {
          "base_uri": "https://localhost:8080/"
        },
        "id": "QapPGv2scm82",
        "outputId": "2c46358d-6d5b-4a7d-e35e-f4a04e573d91"
      },
      "execution_count": 21,
      "outputs": [
        {
          "output_type": "stream",
          "name": "stdout",
          "text": [
            "Sum of even numbers from 1 to 50: 650\n"
          ]
        }
      ]
    },
    {
      "cell_type": "code",
      "source": [
        "#28. Write a program to reverse a string using a while loop.\n",
        "string = input(\"Enter a string: \")\n",
        "reversed_string = \"\"\n",
        "\n",
        "i = len(string) - 1\n",
        "while i >= 0:\n",
        "    reversed_string += string[i]\n",
        "    i -= 1\n",
        "\n",
        "print(\"Reversed string:\", reversed_string)"
      ],
      "metadata": {
        "colab": {
          "base_uri": "https://localhost:8080/"
        },
        "id": "nKLht27sc0em",
        "outputId": "a4397272-a715-4282-b873-4751ab6ed9e9"
      },
      "execution_count": 22,
      "outputs": [
        {
          "output_type": "stream",
          "name": "stdout",
          "text": [
            "Enter a string: khushi\n",
            "Reversed string: ihsuhk\n"
          ]
        }
      ]
    },
    {
      "cell_type": "code",
      "source": [
        " #29. Write a Python program to calculate the factorial of a number provided by the user using a while loop.\n",
        " num = int(input(\"Enter a number: \"))\n",
        "factorial = 1\n",
        "i = num\n",
        "\n",
        "while i > 1:\n",
        "    factorial *= i\n",
        "    i -= 1\n",
        "\n",
        "print(f\"Factorial of {num} is {factorial}\")"
      ],
      "metadata": {
        "colab": {
          "base_uri": "https://localhost:8080/"
        },
        "id": "GxEqy0pvc3De",
        "outputId": "fb4f2b70-65e3-4ad8-c580-f1caeb34d1f2"
      },
      "execution_count": 23,
      "outputs": [
        {
          "output_type": "stream",
          "name": "stdout",
          "text": [
            "Enter a number: 5\n",
            "Factorial of 5 is 120\n"
          ]
        }
      ]
    }
  ]
}